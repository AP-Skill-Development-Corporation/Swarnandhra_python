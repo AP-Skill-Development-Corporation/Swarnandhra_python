{
 "cells": [
  {
   "cell_type": "markdown",
   "metadata": {},
   "source": [
    "### Topics Covered till now:\n",
    "1.Python History and Importance\n",
    "2.Anaconda software Installation\n",
    "3.JUpyter notebook \n",
    "4.Markdown concepts\n",
    "5.python Basics\n",
    "    * Data type\n",
    "    * Operators\n",
    "    * Defining variables\n",
    "    * Defining Input.\n",
    "    \n",
    "### Today's Agenda:\n",
    "* Dynamic Inputs reading\n",
    "* Conditional Statements\n",
    "* Loops\n",
    "* Break\n",
    "* continue\n"
   ]
  },
  {
   "cell_type": "markdown",
   "metadata": {},
   "source": [
    "### Dymanic Input reading:\n",
    "\n",
    "* The Input function in python is used to allocate a varible with values dynamically.\n",
    "* By default input function consider every element in string data type."
   ]
  },
  {
   "cell_type": "code",
   "execution_count": 1,
   "metadata": {},
   "outputs": [
    {
     "name": "stdout",
     "output_type": "stream",
     "text": [
      "enter the input: 10\n",
      "10\n"
     ]
    }
   ],
   "source": [
    "a = input(\"enter the input: \")\n",
    "print(a)"
   ]
  },
  {
   "cell_type": "code",
   "execution_count": 2,
   "metadata": {},
   "outputs": [
    {
     "data": {
      "text/plain": [
       "str"
      ]
     },
     "execution_count": 2,
     "metadata": {},
     "output_type": "execute_result"
    }
   ],
   "source": [
    "type(a)"
   ]
  },
  {
   "cell_type": "code",
   "execution_count": 3,
   "metadata": {},
   "outputs": [
    {
     "name": "stdout",
     "output_type": "stream",
     "text": [
      "10\n"
     ]
    },
    {
     "data": {
      "text/plain": [
       "10.0"
      ]
     },
     "execution_count": 3,
     "metadata": {},
     "output_type": "execute_result"
    }
   ],
   "source": [
    "b = float(input())\n",
    "b"
   ]
  },
  {
   "cell_type": "code",
   "execution_count": 4,
   "metadata": {},
   "outputs": [
    {
     "data": {
      "text/plain": [
       "float"
      ]
     },
     "execution_count": 4,
     "metadata": {},
     "output_type": "execute_result"
    }
   ],
   "source": [
    "type(b)"
   ]
  },
  {
   "cell_type": "code",
   "execution_count": 5,
   "metadata": {},
   "outputs": [
    {
     "name": "stdout",
     "output_type": "stream",
     "text": [
      "10\n"
     ]
    },
    {
     "data": {
      "text/plain": [
       "True"
      ]
     },
     "execution_count": 5,
     "metadata": {},
     "output_type": "execute_result"
    }
   ],
   "source": [
    "c = bool(input())\n",
    "c"
   ]
  },
  {
   "cell_type": "markdown",
   "metadata": {},
   "source": [
    "### Conditional Statements:\n",
    "* The given statement will be executed only if the condition is satisfied.\n",
    "* Types of conditions:\n",
    "    * if \n",
    "    * elif\n",
    "    * else\n",
    "    * nested if\n",
    "    "
   ]
  },
  {
   "cell_type": "code",
   "execution_count": 6,
   "metadata": {},
   "outputs": [
    {
     "name": "stdout",
     "output_type": "stream",
     "text": [
      "b is greater than a\n"
     ]
    }
   ],
   "source": [
    "## if: gives the outout only when the condition is satisfied\n",
    "\n",
    "a = 10\n",
    "b = 20\n",
    "if a<b:\n",
    "    print(\"b is greater than a\")\n",
    "    "
   ]
  },
  {
   "cell_type": "code",
   "execution_count": 7,
   "metadata": {},
   "outputs": [
    {
     "name": "stdout",
     "output_type": "stream",
     "text": [
      "b is greater than a\n"
     ]
    }
   ],
   "source": [
    "## else: if the above statements to else are not satisfied then it will excute.\n",
    "\n",
    "a = 10\n",
    "b = 20\n",
    "if a>b:\n",
    "    print(\"a is greater than b\")\n",
    "else:\n",
    "    print(\"b is greater than a\")"
   ]
  },
  {
   "cell_type": "code",
   "execution_count": 8,
   "metadata": {},
   "outputs": [
    {
     "name": "stdout",
     "output_type": "stream",
     "text": [
      "c is greater\n"
     ]
    }
   ],
   "source": [
    "### elif:\n",
    "\n",
    "a = 10\n",
    "b = 20\n",
    "c = 30\n",
    "if a > b > c:\n",
    "    print(\"a is greater\")\n",
    "elif b > c > a:\n",
    "    print(\"b is greater\")\n",
    "else:\n",
    "    print(\"c is greater\")\n"
   ]
  },
  {
   "cell_type": "markdown",
   "metadata": {},
   "source": [
    "#### Task:\n",
    "levels of ages:\n",
    "\n",
    "0-10 --- child\n",
    "11 - 18 -- teenager\n",
    "19 - 30 --youngster\n",
    "31 - 50 --Adults\n",
    "50++ --- old\n",
    "\n",
    "\n",
    "    \n",
    "    "
   ]
  },
  {
   "cell_type": "code",
   "execution_count": 9,
   "metadata": {},
   "outputs": [
    {
     "name": "stdout",
     "output_type": "stream",
     "text": [
      "Enter the age:10\n",
      "Child\n"
     ]
    }
   ],
   "source": [
    "age = int(input(\"Enter the age:\"))\n",
    "if 0<=age<=10:\n",
    "    print(\"Child\")\n",
    "elif 11<=age<=18:\n",
    "    print(\"Teenager\")\n",
    "elif 19<=age<=30:\n",
    "    print(\"youngster\")\n",
    "elif 31<=age<=50:\n",
    "    print(\"Adult\")\n",
    "elif 51<=age<=100:\n",
    "    print(old)\n",
    "else:\n",
    "    print(\"out of range\")"
   ]
  },
  {
   "cell_type": "code",
   "execution_count": 10,
   "metadata": {},
   "outputs": [
    {
     "name": "stdout",
     "output_type": "stream",
     "text": [
      "a is greater\n"
     ]
    }
   ],
   "source": [
    "## Short hand if:\n",
    "a = 10\n",
    "b = 20\n",
    "if a < b : print(\"a is greater\")"
   ]
  },
  {
   "cell_type": "code",
   "execution_count": 11,
   "metadata": {},
   "outputs": [
    {
     "name": "stdout",
     "output_type": "stream",
     "text": [
      "b is greater\n"
     ]
    }
   ],
   "source": [
    "## short hand if and else:\n",
    "\n",
    "print(\"a is greater\") if a > b else print(\"b is greater\") "
   ]
  },
  {
   "cell_type": "code",
   "execution_count": 12,
   "metadata": {},
   "outputs": [
    {
     "name": "stdout",
     "output_type": "stream",
     "text": [
      "20 is above  10\n",
      "also above 15\n",
      "20 is larger than  10\n"
     ]
    }
   ],
   "source": [
    "### Nested If: using if statement in the if statement.\n",
    "\n",
    "a = 10\n",
    "if a < 20:\n",
    "    print(\"20 is above \",a)\n",
    "    if a < 20:\n",
    "        print(\"also above 15\")\n",
    "        if a < 20:\n",
    "            print(\"20 is larger than \",a)\n",
    "        else:\n",
    "            print(\"10 is not above 20\")\n",
    "    "
   ]
  },
  {
   "cell_type": "code",
   "execution_count": 13,
   "metadata": {},
   "outputs": [
    {
     "name": "stdout",
     "output_type": "stream",
     "text": [
      "Fail\n"
     ]
    }
   ],
   "source": [
    "### P = 35\n",
    "math,eng,phy = 30,40,45\n",
    "if math >= 35:\n",
    "    if eng >= 35:\n",
    "        if phy >= 35:\n",
    "            print(\"Passed\")\n",
    "else:\n",
    "    print(\"Fail\")\n",
    "\n"
   ]
  },
  {
   "cell_type": "markdown",
   "metadata": {},
   "source": [
    "### Looping : \n",
    "\n",
    "* Iterating the defined statements defined number of times.\n",
    "* Types of looping:\n",
    "    * For \n",
    "    * While\n"
   ]
  },
  {
   "cell_type": "markdown",
   "metadata": {},
   "source": [
    "### For:\n",
    "\n",
    "* for --- keyword \n",
    "* var_name --- variable name in the loop\n",
    "* range --- start_value and end_value\n",
    "    * start_value : starting value\n",
    "    * endvalue : endvalue +1\n"
   ]
  },
  {
   "cell_type": "code",
   "execution_count": 14,
   "metadata": {},
   "outputs": [
    {
     "name": "stdout",
     "output_type": "stream",
     "text": [
      "1\n",
      "2\n",
      "3\n",
      "4\n",
      "5\n",
      "6\n",
      "7\n",
      "8\n",
      "9\n",
      "10\n"
     ]
    }
   ],
   "source": [
    "### for loop range function:\n",
    "\n",
    "for var_name in range(1,11):\n",
    "    print(var_name)"
   ]
  },
  {
   "cell_type": "code",
   "execution_count": 15,
   "metadata": {},
   "outputs": [
    {
     "name": "stdout",
     "output_type": "stream",
     "text": [
      "0\n",
      "1\n",
      "2\n",
      "3\n",
      "4\n",
      "5\n",
      "6\n",
      "7\n",
      "8\n",
      "9\n",
      "10\n"
     ]
    }
   ],
   "source": [
    "for i in range(11):  ### by default zero is the start_value.\n",
    "    print(i)"
   ]
  },
  {
   "cell_type": "code",
   "execution_count": 16,
   "metadata": {},
   "outputs": [
    {
     "name": "stdout",
     "output_type": "stream",
     "text": [
      "0\n",
      "2\n",
      "4\n",
      "6\n",
      "8\n",
      "10\n"
     ]
    }
   ],
   "source": [
    "for i in range(0,11,2):  ### even number\n",
    "    print(i)"
   ]
  },
  {
   "cell_type": "code",
   "execution_count": 17,
   "metadata": {},
   "outputs": [
    {
     "name": "stdout",
     "output_type": "stream",
     "text": [
      "1\n",
      "3\n",
      "5\n",
      "7\n",
      "9\n"
     ]
    }
   ],
   "source": [
    "for i in range(1,11,2):  ## odd numbers\n",
    "    print(i)"
   ]
  },
  {
   "cell_type": "markdown",
   "metadata": {},
   "source": [
    "#### Task : create mutliplication table upto 10 values.\n",
    "* 2 * 1 = 2\n",
    "* 2 * 2 = 4\n",
    ":\n",
    ":\n",
    ":\n",
    "* 2 * 10 = 20"
   ]
  },
  {
   "cell_type": "code",
   "execution_count": 18,
   "metadata": {},
   "outputs": [
    {
     "name": "stdout",
     "output_type": "stream",
     "text": [
      "P y t h o n   P r o g r a m m i n g "
     ]
    }
   ],
   "source": [
    "### accesing the elements directly using for loop:\n",
    "\n",
    "a = \"Python Programming\"\n",
    "for i in range(len(a)):\n",
    "    print(a[i],end = \" \")"
   ]
  },
  {
   "cell_type": "code",
   "execution_count": 19,
   "metadata": {},
   "outputs": [
    {
     "name": "stdout",
     "output_type": "stream",
     "text": [
      "P y t h o n   P r o g r a m m i n g "
     ]
    }
   ],
   "source": [
    "for i in a:\n",
    "    print(i,end = \" \")"
   ]
  },
  {
   "cell_type": "code",
   "execution_count": 20,
   "metadata": {},
   "outputs": [
    {
     "name": "stdout",
     "output_type": "stream",
     "text": [
      "1\n",
      "2\n",
      "3\n",
      "4\n",
      "5\n"
     ]
    }
   ],
   "source": [
    "#### While:\n",
    "\n",
    "var_name = 1\n",
    "while var_name <=5:\n",
    "    print(var_name)\n",
    "    var_name += 1\n",
    "\n",
    "    "
   ]
  },
  {
   "cell_type": "code",
   "execution_count": 23,
   "metadata": {},
   "outputs": [
    {
     "name": "stdout",
     "output_type": "stream",
     "text": [
      "10\n",
      "8\n",
      "6\n",
      "4\n",
      "2\n",
      "0\n"
     ]
    }
   ],
   "source": [
    "i = 10\n",
    "while i >= 0 :\n",
    "    if i % 2 == 0:\n",
    "        print(i)\n",
    "    i -=1"
   ]
  },
  {
   "cell_type": "markdown",
   "metadata": {},
   "source": [
    "### Task: design a calculator with 2 operands.\n",
    "* operations to be performed: +,-,//,/,%,*,power\n",
    "* All inputs should be given dynamically."
   ]
  },
  {
   "cell_type": "markdown",
   "metadata": {},
   "source": [
    "### Break,Continue and Pass:\n"
   ]
  },
  {
   "cell_type": "code",
   "execution_count": 25,
   "metadata": {},
   "outputs": [
    {
     "name": "stdout",
     "output_type": "stream",
     "text": [
      "5\n"
     ]
    }
   ],
   "source": [
    "### Break:\n",
    "for i in range(1,10):\n",
    "    if i == 5:\n",
    "        print(i)\n",
    "        break"
   ]
  },
  {
   "cell_type": "code",
   "execution_count": 28,
   "metadata": {},
   "outputs": [],
   "source": [
    "## Pass:To skip a particular statement execution we use pass\n",
    "\n",
    "a = 10\n",
    "b = 20\n",
    "if a > b:\n",
    "    print(a)\n",
    "else:\n",
    "    pass\n"
   ]
  },
  {
   "cell_type": "code",
   "execution_count": 29,
   "metadata": {},
   "outputs": [],
   "source": [
    "if b > a:\n",
    "    pass\n",
    "    "
   ]
  },
  {
   "cell_type": "code",
   "execution_count": 31,
   "metadata": {},
   "outputs": [
    {
     "name": "stdout",
     "output_type": "stream",
     "text": [
      "1\n",
      "2\n",
      "4\n"
     ]
    }
   ],
   "source": [
    "### Continue:\n",
    "a = [1,2,3,4]\n",
    "for i in a:\n",
    "    if i == 3:\n",
    "        continue\n",
    "    print(i)"
   ]
  },
  {
   "cell_type": "code",
   "execution_count": null,
   "metadata": {},
   "outputs": [],
   "source": []
  }
 ],
 "metadata": {
  "kernelspec": {
   "display_name": "Python 3",
   "language": "python",
   "name": "python3"
  },
  "language_info": {
   "codemirror_mode": {
    "name": "ipython",
    "version": 3
   },
   "file_extension": ".py",
   "mimetype": "text/x-python",
   "name": "python",
   "nbconvert_exporter": "python",
   "pygments_lexer": "ipython3",
   "version": "3.7.3"
  }
 },
 "nbformat": 4,
 "nbformat_minor": 2
}
