{
 "cells": [
  {
   "cell_type": "markdown",
   "metadata": {},
   "source": [
    "# Jupyter Introduction:\n"
   ]
  },
  {
   "cell_type": "markdown",
   "metadata": {},
   "source": [
    "# Highest size of title text\n",
    "###### lowesr size of title text\n",
    "* There are total six title sizes,which can be vared using hashtag symbol.\n",
    "* We can make points in our text using astrick symbol.\n",
    "    * For making the subpoints give tab space and use astrick symbol\n",
    "        * For making subpoints in subpoints again give tab space and use astrick.\n",
    "    \n",
    "* *For making the text repesentation in Italic format use single astrick without space.*\n",
    "* **For making the text repesentation in Bold format use double astrick without space.**\n",
    "* ***For making the text repesentation in Italic and bolf format use triple astrick without space.***\n",
    "\n",
    "* <img src = \"https://d1y2qj23ol72q6.cloudfront.net/2019/06/python-blog.jpg\" width = \"300\" height = \"300\">"
   ]
  },
  {
   "cell_type": "code",
   "execution_count": null,
   "metadata": {},
   "outputs": [],
   "source": []
  }
 ],
 "metadata": {
  "kernelspec": {
   "display_name": "Python 3",
   "language": "python",
   "name": "python3"
  },
  "language_info": {
   "codemirror_mode": {
    "name": "ipython",
    "version": 3
   },
   "file_extension": ".py",
   "mimetype": "text/x-python",
   "name": "python",
   "nbconvert_exporter": "python",
   "pygments_lexer": "ipython3",
   "version": "3.7.3"
  }
 },
 "nbformat": 4,
 "nbformat_minor": 2
}
